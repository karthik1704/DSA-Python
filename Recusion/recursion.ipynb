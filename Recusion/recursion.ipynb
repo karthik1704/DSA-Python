{
 "cells": [
  {
   "cell_type": "code",
   "execution_count": 1,
   "source": [
    "def recursiveMethod(n):\r\n",
    "    if n<1:\r\n",
    "        print(\"n is less than 1\")\r\n",
    "    else: \r\n",
    "        recursiveMethod(n-1)\r\n",
    "        print(n)\r\n",
    "\r\n",
    "recursiveMethod(4)"
   ],
   "outputs": [
    {
     "output_type": "stream",
     "name": "stdout",
     "text": [
      "n is less than 1\n",
      "1\n",
      "2\n",
      "3\n",
      "4\n"
     ]
    }
   ],
   "metadata": {}
  },
  {
   "cell_type": "markdown",
   "source": [
    "**Output**\r\n",
    "n is less than 1\r\n",
    "1\r\n",
    "2\r\n",
    "3\r\n",
    "4\r\n",
    "\r\n",
    "- if we call recusiveMethod(4)\r\n",
    "\r\n",
    "Stack memory | \r\n",
    "------------ | \r\n",
    "recursiveMethod(4)| else excutes four added to  the stack memory call fn with (n-1)\r\n",
    "\r\n",
    "Stack memory | \r\n",
    "------------ | \r\n",
    "recursiveMethod(3)| recusiveMethod(3) added to the stack and call (n-1)\r\n",
    "recursiveMethod(4)|\r\n",
    "\r\n",
    "\r\n",
    "Stack memory | \r\n",
    "------------ | \r\n",
    "recursiveMethod(2)| recusiveMethod(2) added to the stack and call (n-1)\r\n",
    "recursiveMethod(3)| recusiveMethod(3) added to the stack and call (n-1)\r\n",
    "recursiveMethod(4)|\r\n",
    "\r\n",
    "and so on till recursiveMethod(0)\r\n",
    "\r\n",
    "Stack memory | \r\n",
    "------------ | \r\n",
    "recursiveMethod(0)| prints if conditon n less than 1 and pop from memory\r\n",
    "recursiveMethod(1)| \r\n",
    "recursiveMethod(2)| \r\n",
    "recursiveMethod(3)| \r\n",
    "recursiveMethod(4)| \r\n",
    "\r\n",
    "Stack memory | \r\n",
    "------------ | \r\n",
    "recursiveMethod(1)| prints 1 and pop from memory\r\n",
    "recursiveMethod(2)| \r\n",
    "recursiveMethod(3)| \r\n",
    "recursiveMethod(4)|\r\n",
    "\r\n",
    "Stack memory | \r\n",
    "------------ | \r\n",
    "recursiveMethod(2)| prints 2 and pop from memory\r\n",
    "recursiveMethod(3)| \r\n",
    "recursiveMethod(4)|\r\n",
    "\r\n",
    "ans so on..."
   ],
   "metadata": {}
  }
 ],
 "metadata": {
  "orig_nbformat": 4,
  "language_info": {
   "name": "python",
   "version": "3.9.6",
   "mimetype": "text/x-python",
   "codemirror_mode": {
    "name": "ipython",
    "version": 3
   },
   "pygments_lexer": "ipython3",
   "nbconvert_exporter": "python",
   "file_extension": ".py"
  },
  "kernelspec": {
   "name": "python3",
   "display_name": "Python 3.9.6 64-bit ('.venv': venv)"
  },
  "interpreter": {
   "hash": "f3baa6b52437efa663508b076cbc5facb3fafe1a94f6edbdeb6bd2156f8bf8ab"
  }
 },
 "nbformat": 4,
 "nbformat_minor": 2
}