{
 "cells": [
  {
   "cell_type": "code",
   "execution_count": null,
   "source": [
    "def recursiveMethod(n):\r\n",
    "    if n<1:\r\n",
    "        print(\"n is less than 1\")\r\n",
    "    else: \r\n",
    "        recursiveMethod(n-1)\r\n",
    "        print(n)\r\n",
    "\r\n",
    "recursiveMethod(4)"
   ],
   "outputs": [],
   "metadata": {}
  }
 ],
 "metadata": {
  "orig_nbformat": 4,
  "language_info": {
   "name": "python",
   "version": "3.9.6"
  },
  "kernelspec": {
   "name": "python3",
   "display_name": "Python 3.9.6 64-bit ('.venv': venv)"
  },
  "interpreter": {
   "hash": "f3baa6b52437efa663508b076cbc5facb3fafe1a94f6edbdeb6bd2156f8bf8ab"
  }
 },
 "nbformat": 4,
 "nbformat_minor": 2
}